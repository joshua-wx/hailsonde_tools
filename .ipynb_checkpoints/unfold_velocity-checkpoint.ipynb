{
 "cells": [
  {
   "cell_type": "code",
   "execution_count": 18,
   "metadata": {},
   "outputs": [],
   "source": [
    "\"\"\"\n",
    "Unfold velocity and output file as cfradial\n",
    "\"\"\"\n",
    "import os\n",
    "from glob import glob\n",
    "\n",
    "import pyart\n",
    "import openradartools as ort\n",
    "from unravel import dealias\n"
   ]
  },
  {
   "cell_type": "code",
   "execution_count": 20,
   "metadata": {},
   "outputs": [],
   "source": [
    "source_folder = '/g/data/kl02/jss548/hail-research/hailsonde/20230724_CASCV_subset'\n",
    "dest_folder = '/g/data/kl02/jss548/hail-research/hailsonde/20230724_CASCV_subset_level1b'"
   ]
  },
  {
   "cell_type": "code",
   "execution_count": 22,
   "metadata": {},
   "outputs": [
    {
     "name": "stdout",
     "output_type": "stream",
     "text": [
      "/g/data/kl02/jss548/hail-research/hailsonde/20230724_CASCV_subset/2023072422_24_ODIMH5_PVOL6S_VOL_CASCV.h5\n"
     ]
    }
   ],
   "source": [
    "odim_ffn_list = sorted(glob(source_folder + '/*.h5'))\n",
    "for odim_ffn in odim_ffn_list:\n",
    "    print(odim_ffn)\n",
    "    radar = pyart.aux_io.read_odim_h5(odim_ffn)\n",
    "    nyquist_list = ort.vel.extract_nyquist(radar, odim_ffn)  # returns empty list if something fails\n",
    "    gatefilter = pyart.correct.GateFilter(radar)\n",
    "    vdop_unfold = dealias.unravel_3D_pyart(\n",
    "        radar, 'velocity_horizontal', 'reflectivity_horizontal',\n",
    "        gatefilter=gatefilter,\n",
    "        nyquist_velocity=nyquist_list,\n",
    "        \n",
    "    )\n",
    "    radar.add_field_like('velocity_horizontal','corrected_velocity', vdop_unfold, replace_existing=True)\n",
    "    radar.fields['corrected_velocity']['dealiasing_correction'] = 'UNRAVEL dealiasing algorithm developed by ' \\\n",
    "                                                                    'Louf et al. (2020) ' \\\n",
    "                                                                    'doi:10.1175/JTECH-D-19-0020.1'\n",
    "    out_ffn = f'{dest_folder}/{os.path.basename(odim_ffn)[:-3]}_unravel.nc'\n",
    "    pyart.io.write_cfradial(out_ffn, radar, format='NETCDF4')\n"
   ]
  },
  {
   "cell_type": "code",
   "execution_count": null,
   "metadata": {},
   "outputs": [],
   "source": []
  }
 ],
 "metadata": {
  "kernelspec": {
   "display_name": "openradar",
   "language": "python",
   "name": "python3"
  },
  "language_info": {
   "codemirror_mode": {
    "name": "ipython",
    "version": 3
   },
   "file_extension": ".py",
   "mimetype": "text/x-python",
   "name": "python",
   "nbconvert_exporter": "python",
   "pygments_lexer": "ipython3",
   "version": "3.8.15"
  },
  "orig_nbformat": 4
 },
 "nbformat": 4,
 "nbformat_minor": 2
}
