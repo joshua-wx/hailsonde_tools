{
 "cells": [
  {
   "cell_type": "code",
   "execution_count": 1,
   "metadata": {},
   "outputs": [
    {
     "name": "stdout",
     "output_type": "stream",
     "text": [
      "\n",
      "## You are using the Python ARM Radar Toolkit (Py-ART), an open source\n",
      "## library for working with weather radar data. Py-ART is partly\n",
      "## supported by the U.S. Department of Energy as part of the Atmospheric\n",
      "## Radiation Measurement (ARM) Climate Research Facility, an Office of\n",
      "## Science user facility.\n",
      "##\n",
      "## If you use this software to prepare a publication, please cite:\n",
      "##\n",
      "##     JJ Helmus and SM Collis, JORS 2016, doi: 10.5334/jors.119\n",
      "\n"
     ]
    },
    {
     "name": "stderr",
     "output_type": "stream",
     "text": [
      "/g/data/en0/jss548/miniconda3/envs/openradar/lib/python3.8/site-packages/tqdm/auto.py:22: TqdmWarning: IProgress not found. Please update jupyter and ipywidgets. See https://ipywidgets.readthedocs.io/en/stable/user_install.html\n",
      "  from .autonotebook import tqdm as notebook_tqdm\n"
     ]
    }
   ],
   "source": [
    "\"\"\"\n",
    "Unfold velocity and output file as cfradial\n",
    "\"\"\"\n",
    "import os\n",
    "from glob import glob\n",
    "\n",
    "import pyart\n",
    "import openradartools as ort\n",
    "from unravel import dealias\n"
   ]
  },
  {
   "cell_type": "code",
   "execution_count": 2,
   "metadata": {},
   "outputs": [],
   "source": [
    "source_folder = '/g/data/kl02/jss548/hail-research/hailsonde/20230724_CASCV_subset'\n",
    "dest_folder = '/g/data/kl02/jss548/hail-research/hailsonde/20230724_CASCV_subset_level1b'"
   ]
  },
  {
   "cell_type": "code",
   "execution_count": 5,
   "metadata": {},
   "outputs": [
    {
     "name": "stdout",
     "output_type": "stream",
     "text": [
      "/g/data/kl02/jss548/hail-research/hailsonde/20230724_CASCV_subset/2023072422_24_ODIMH5_PVOL6S_VOL_CASCV.h5\n",
      "[(24.4, 31.746000289916992), (20.2, 31.746000289916992), (16.6, 31.746000289916992), (13.7, 31.746000289916992), (11.3, 31.746000289916992), (9.4, 31.746000289916992), (7.7, 23.809499740600586), (6.4, 23.809499740600586), (5.3, 16.402099609375), (4.4, 16.402099609375), (3.5, 16.402099609375), (2.7, 47.61899948120117), (2.1, 47.61899948120117), (1.6, 47.61899948120117), (1.2, 47.61899948120117), (0.8, 47.61899948120117), (0.4, 47.61899948120117)]\n"
     ]
    }
   ],
   "source": [
    "odim_ffn_list = sorted(glob(source_folder + '/*.h5'))\n",
    "for odim_ffn in odim_ffn_list:\n",
    "    print(odim_ffn)\n",
    "    radar = pyart.aux_io.read_odim_h5(odim_ffn)\n",
    "    nyquist_list = ort.vel.extract_nyquist(radar, odim_ffn)  # returns empty list if something fails\n",
    "    print(list(zip(radar.fixed_angle['data'],nyquist_list)))\n",
    "\n",
    "    gatefilter = pyart.correct.GateFilter(radar)\n",
    "    vdop_unfold = dealias.unravel_3D_pyart(\n",
    "        radar, 'velocity_horizontal', 'reflectivity_horizontal',\n",
    "        gatefilter=gatefilter,\n",
    "        nyquist_velocity=nyquist_list,\n",
    "        \n",
    "    )\n",
    "    radar.add_field_like('velocity_horizontal','corrected_velocity', vdop_unfold, replace_existing=True)\n",
    "    radar.fields['corrected_velocity']['dealiasing_correction'] = 'UNRAVEL dealiasing algorithm developed by ' \\\n",
    "                                                                    'Louf et al. (2020) ' \\\n",
    "                                                                    'doi:10.1175/JTECH-D-19-0020.1'\n",
    "    out_ffn = f'{dest_folder}/{os.path.basename(odim_ffn)[:-3]}_unravel.nc'\n",
    "    pyart.io.write_cfradial(out_ffn, radar, format='NETCDF4')\n"
   ]
  },
  {
   "cell_type": "code",
   "execution_count": null,
   "metadata": {},
   "outputs": [],
   "source": []
  }
 ],
 "metadata": {
  "kernelspec": {
   "display_name": "hailsonde",
   "language": "python",
   "name": "python3"
  },
  "language_info": {
   "codemirror_mode": {
    "name": "ipython",
    "version": 3
   },
   "file_extension": ".py",
   "mimetype": "text/x-python",
   "name": "python",
   "nbconvert_exporter": "python",
   "pygments_lexer": "ipython3",
   "version": "3.8.15"
  }
 },
 "nbformat": 4,
 "nbformat_minor": 4
}
